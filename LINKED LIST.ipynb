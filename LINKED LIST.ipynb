{
 "cells": [
  {
   "cell_type": "code",
   "execution_count": 6,
   "metadata": {},
   "outputs": [
    {
     "name": "stdout",
     "output_type": "stream",
     "text": [
      "12\n",
      "None\n"
     ]
    }
   ],
   "source": [
    "class Node:\n",
    "    def __init__(self,data):\n",
    "        self.data=data\n",
    "        self.next=None\n",
    "    \n",
    "n1 = Node(12)\n",
    "print(n1.data)\n",
    "print(n1.next)"
   ]
  },
  {
   "cell_type": "code",
   "execution_count": null,
   "metadata": {},
   "outputs": [],
   "source": []
  },
  {
   "cell_type": "code",
   "execution_count": null,
   "metadata": {},
   "outputs": [],
   "source": []
  },
  {
   "cell_type": "code",
   "execution_count": 8,
   "metadata": {},
   "outputs": [],
   "source": [
    "class linkedlist:\n",
    "    def __init__(self):\n",
    "        self.data=None\n",
    "n1=linkedlist()\n",
    "\n"
   ]
  },
  {
   "cell_type": "code",
   "execution_count": 9,
   "metadata": {},
   "outputs": [
    {
     "ename": "AttributeError",
     "evalue": "'slly' object has no attribute 'data'",
     "output_type": "error",
     "traceback": [
      "\u001b[1;31m---------------------------------------------------------------------------\u001b[0m",
      "\u001b[1;31mAttributeError\u001b[0m                            Traceback (most recent call last)",
      "\u001b[1;32m<ipython-input-9-074f291c7115>\u001b[0m in \u001b[0;36m<module>\u001b[1;34m\u001b[0m\n\u001b[0;32m     28\u001b[0m \u001b[0mn4\u001b[0m\u001b[1;33m=\u001b[0m\u001b[0mNode\u001b[0m\u001b[1;33m(\u001b[0m\u001b[1;36m6\u001b[0m\u001b[1;33m)\u001b[0m\u001b[1;33m\u001b[0m\u001b[1;33m\u001b[0m\u001b[0m\n\u001b[0;32m     29\u001b[0m \u001b[0mn3\u001b[0m\u001b[1;33m.\u001b[0m\u001b[0mnext\u001b[0m\u001b[1;33m=\u001b[0m\u001b[0mn4\u001b[0m\u001b[1;33m\u001b[0m\u001b[1;33m\u001b[0m\u001b[0m\n\u001b[1;32m---> 30\u001b[1;33m \u001b[0ms1\u001b[0m\u001b[1;33m.\u001b[0m\u001b[0mtraversal\u001b[0m\u001b[1;33m(\u001b[0m\u001b[1;33m)\u001b[0m\u001b[1;33m\u001b[0m\u001b[1;33m\u001b[0m\u001b[0m\n\u001b[0m",
      "\u001b[1;32m<ipython-input-9-074f291c7115>\u001b[0m in \u001b[0;36mtraversal\u001b[1;34m(self)\u001b[0m\n\u001b[0;32m     12\u001b[0m             \u001b[0mprint\u001b[0m\u001b[1;33m(\u001b[0m\u001b[1;34m\"empty\"\u001b[0m\u001b[1;33m)\u001b[0m\u001b[1;33m\u001b[0m\u001b[1;33m\u001b[0m\u001b[0m\n\u001b[0;32m     13\u001b[0m         \u001b[1;32melse\u001b[0m\u001b[1;33m:\u001b[0m\u001b[1;33m\u001b[0m\u001b[1;33m\u001b[0m\u001b[0m\n\u001b[1;32m---> 14\u001b[1;33m             \u001b[0ma\u001b[0m\u001b[1;33m=\u001b[0m\u001b[0mself\u001b[0m\u001b[1;33m.\u001b[0m\u001b[0mdata\u001b[0m\u001b[1;33m\u001b[0m\u001b[1;33m\u001b[0m\u001b[0m\n\u001b[0m\u001b[0;32m     15\u001b[0m             \u001b[1;32mwhile\u001b[0m \u001b[0ma\u001b[0m \u001b[1;32mis\u001b[0m \u001b[1;32mnot\u001b[0m \u001b[1;32mNone\u001b[0m\u001b[1;33m:\u001b[0m\u001b[1;33m\u001b[0m\u001b[1;33m\u001b[0m\u001b[0m\n\u001b[0;32m     16\u001b[0m                 \u001b[0mprint\u001b[0m\u001b[1;33m(\u001b[0m\u001b[0ma\u001b[0m\u001b[1;33m.\u001b[0m\u001b[0mdata\u001b[0m\u001b[1;33m,\u001b[0m \u001b[0mend\u001b[0m\u001b[1;33m=\u001b[0m\u001b[1;34m\" \"\u001b[0m\u001b[1;33m)\u001b[0m\u001b[1;33m\u001b[0m\u001b[1;33m\u001b[0m\u001b[0m\n",
      "\u001b[1;31mAttributeError\u001b[0m: 'slly' object has no attribute 'data'"
     ]
    }
   ],
   "source": [
    "class Node:\n",
    "    def __init__(self,data):\n",
    "        self.data=data\n",
    "        self.next=None\n",
    "\n",
    "class slly:\n",
    "    def __init__(self):\n",
    "        self.head=None\n",
    "    \n",
    "    def traversal(self):\n",
    "        if self.head is None:\n",
    "            print(\"empty\")\n",
    "        else:\n",
    "            a=self.data\n",
    "            while a is not None:\n",
    "                print(a.data, end=\" \")\n",
    "                a=a.next\n",
    "                  \n",
    "\n",
    "                \n",
    "n1=Node(3)\n",
    "s1=slly()\n",
    "s1.head=n1\n",
    "n2=Node(4)\n",
    "n1.next=n2\n",
    "n3=Node(5)\n",
    "n2.next=n3\n",
    "n4=Node(6)\n",
    "n3.next=n4\n",
    "s1.traversal()"
   ]
  },
  {
   "cell_type": "code",
   "execution_count": 13,
   "metadata": {},
   "outputs": [
    {
     "name": "stdout",
     "output_type": "stream",
     "text": [
      "1 2 3 "
     ]
    }
   ],
   "source": [
    "class Node:\n",
    "    def __init__(self,data):\n",
    "        self.data=data\n",
    "        self.next=None\n",
    "\n",
    "class slly:\n",
    "    def __init__(self):\n",
    "        self.head=None\n"
   ]
  },
  {
   "cell_type": "code",
   "execution_count": 31,
   "metadata": {},
   "outputs": [
    {
     "name": "stdout",
     "output_type": "stream",
     "text": [
      "3 5 5 \n",
      "\n",
      "3 3 5 5 "
     ]
    }
   ],
   "source": [
    "class Node:\n",
    "      def __init__(self,data):\n",
    "        self.data=data\n",
    "        self.next=None\n",
    "class slly:\n",
    "    def __init__(self):\n",
    "        self.head=None\n",
    "    \n",
    "    def  traversal(self):\n",
    "        if self.head is None:\n",
    "            print(\"empty\")\n",
    "        else:\n",
    "            a=self.head\n",
    "            while a is not None:\n",
    "                print(a.data, end=\" \")\n",
    "                a=a.next\n",
    "    def insert_begininng(self,data):\n",
    "        print(\"\\n\")\n",
    "        nb=Node(data)\n",
    "        nb.next=self.head\n",
    "        self.head=nb\n",
    "n1=Node(3)\n",
    "s1=slly()\n",
    "s1.head=n1\n",
    "n2=Node(5)\n",
    "n1.next=n2\n",
    "n3=Node(5)\n",
    "n2.next=n3\n",
    "s1.traversal()\n",
    "s1.insert_begininng(3)\n",
    "s1.traversal()\n"
   ]
  },
  {
   "cell_type": "code",
   "execution_count": null,
   "metadata": {},
   "outputs": [],
   "source": []
  },
  {
   "cell_type": "code",
   "execution_count": null,
   "metadata": {},
   "outputs": [],
   "source": []
  },
  {
   "cell_type": "code",
   "execution_count": null,
   "metadata": {},
   "outputs": [],
   "source": []
  },
  {
   "cell_type": "code",
   "execution_count": null,
   "metadata": {},
   "outputs": [],
   "source": []
  },
  {
   "cell_type": "code",
   "execution_count": null,
   "metadata": {},
   "outputs": [],
   "source": []
  },
  {
   "cell_type": "code",
   "execution_count": null,
   "metadata": {},
   "outputs": [],
   "source": []
  },
  {
   "cell_type": "code",
   "execution_count": 18,
   "metadata": {},
   "outputs": [
    {
     "name": "stdout",
     "output_type": "stream",
     "text": [
      "5 10 15 20 \n",
      "20 15 10 5 \n",
      "3 5 10 15 20 \n",
      "20 15 10 5 3 \n",
      "3 5 10 15 20 4 \n",
      "4 20 15 10 5 3 "
     ]
    }
   ],
   "source": [
    "class Node:\n",
    "    def __init__(self,data):\n",
    "        self.data=data\n",
    "        self.next=None\n",
    "        self.prev=None\n",
    "        \n",
    "class Dl:\n",
    "    def __init__(self):\n",
    "        self.head=None\n",
    "        \n",
    "    def forward_traversal(self):\n",
    "        if self.head is None:\n",
    "            print(\"empty\")\n",
    "        else:\n",
    "            a=self.head\n",
    "            while a is not None:\n",
    "                print(a.data, end=\" \")\n",
    "                a=a.next\n",
    "        \n",
    "        \n",
    "    def backward_traversal(self):\n",
    "        print()\n",
    "        if self.head is None:\n",
    "            print(\"empty\")\n",
    "        else:\n",
    "            a=self.head\n",
    "            while a.next is not None:\n",
    "                a=a.next\n",
    "            while a is not None:\n",
    "                print(a.data, end=\" \")\n",
    "                a=a.prev\n",
    "                \n",
    "    def insert_begin(self,data):\n",
    "        print()\n",
    "        ns=Node(data)\n",
    "        a=self.head\n",
    "        a.prev=ns\n",
    "        ns.next=a\n",
    "        self.head=ns\n",
    "        \n",
    "    def insert_end(self,data):\n",
    "        print()\n",
    "        nd=Node(data)\n",
    "        a=self.head\n",
    "        while a.next is not None:\n",
    "            a=a.next\n",
    "        a.next=nd\n",
    "        nd.prev=a\n",
    "        \n",
    "        \n",
    "n1=Node(5)\n",
    "d1=Dl()\n",
    "d1.head=n1\n",
    "n2=Node(10)\n",
    "n2.prev=n1\n",
    "n1.next=n2\n",
    "n3=Node(15)\n",
    "n3.prev=n2\n",
    "n2.next=n3\n",
    "n4=Node(20)\n",
    "n4.prev=n3\n",
    "n3.next=n4\n",
    "d1.forward_traversal()\n",
    "d1.backward_traversal()\n",
    "d1.insert_begin(3)\n",
    "d1.forward_traversal()\n",
    "d1.backward_traversal()\n",
    "d1.insert_end(4)\n",
    "d1.forward_traversal()\n",
    "d1.backward_traversal()\n",
    "\n",
    "        "
   ]
  },
  {
   "cell_type": "code",
   "execution_count": null,
   "metadata": {},
   "outputs": [],
   "source": []
  },
  {
   "cell_type": "code",
   "execution_count": null,
   "metadata": {},
   "outputs": [],
   "source": []
  },
  {
   "cell_type": "code",
   "execution_count": null,
   "metadata": {},
   "outputs": [],
   "source": []
  }
 ],
 "metadata": {
  "kernelspec": {
   "display_name": "Python 3",
   "language": "python",
   "name": "python3"
  },
  "language_info": {
   "codemirror_mode": {
    "name": "ipython",
    "version": 3
   },
   "file_extension": ".py",
   "mimetype": "text/x-python",
   "name": "python",
   "nbconvert_exporter": "python",
   "pygments_lexer": "ipython3",
   "version": "3.8.5"
  }
 },
 "nbformat": 4,
 "nbformat_minor": 4
}
